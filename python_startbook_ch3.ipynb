{
  "nbformat": 4,
  "nbformat_minor": 0,
  "metadata": {
    "colab": {
      "name": "python_startbook_ch3.ipynb ",
      "provenance": [],
      "collapsed_sections": [],
      "include_colab_link": true
    },
    "kernelspec": {
      "name": "python3",
      "display_name": "Python 3"
    }
  },
  "cells": [
    {
      "cell_type": "markdown",
      "metadata": {
        "id": "view-in-github",
        "colab_type": "text"
      },
      "source": [
        "<a href=\"https://colab.research.google.com/github/c-c-c-c/python_startbook/blob/master/python_startbook_ch3.ipynb\" target=\"_parent\"><img src=\"https://colab.research.google.com/assets/colab-badge.svg\" alt=\"Open In Colab\"/></a>"
      ]
    },
    {
      "cell_type": "markdown",
      "metadata": {
        "colab_type": "text",
        "id": "SlI1hb8GMBme"
      },
      "source": [
        "参考図書：[辻 真吾. Pythonスタートブック［増補改訂版］. Kindle Edition. ](https://www.amazon.co.jp/dp/B07C3LFNWJ/ref=cm_sw_r_tw_dp_U_x_iobJEbPXC8NYQ) "
      ]
    },
    {
      "cell_type": "markdown",
      "metadata": {
        "id": "sxaDjhwoGQ9M",
        "colab_type": "text"
      },
      "source": [
        "# 3章 データと型"
      ]
    },
    {
      "cell_type": "markdown",
      "metadata": {
        "id": "F00FM8U5GXuW",
        "colab_type": "text"
      },
      "source": [
        "### 3-2-1 文字列とメソッド"
      ]
    },
    {
      "cell_type": "code",
      "metadata": {
        "id": "v5DeoLumGipB",
        "colab_type": "code",
        "colab": {}
      },
      "source": [
        "address = 'Tokyo,Japan'"
      ],
      "execution_count": 0,
      "outputs": []
    },
    {
      "cell_type": "code",
      "metadata": {
        "id": "rqxO_uncGkxI",
        "colab_type": "code",
        "colab": {}
      },
      "source": [
        "address.split(',')"
      ],
      "execution_count": 0,
      "outputs": []
    },
    {
      "cell_type": "code",
      "metadata": {
        "id": "9DedbG9IGpZg",
        "colab_type": "code",
        "colab": {}
      },
      "source": [
        "address.index(',')"
      ],
      "execution_count": 0,
      "outputs": []
    },
    {
      "cell_type": "code",
      "metadata": {
        "id": "7wqLAz7FGtcX",
        "colab_type": "code",
        "colab": {}
      },
      "source": [
        ""
      ],
      "execution_count": 0,
      "outputs": []
    },
    {
      "cell_type": "markdown",
      "metadata": {
        "id": "mw2UHNTAG59I",
        "colab_type": "text"
      },
      "source": [
        "## 3-3-1 （同じ名前のメソッド）\n",
        "鳥の翼と昆虫の羽根みたいなもの。\n",
        "\n",
        "全く系統の違うものが、同じ機能を持っている、的な。"
      ]
    },
    {
      "cell_type": "code",
      "metadata": {
        "id": "RZMmBFT9HGNm",
        "colab_type": "code",
        "colab": {}
      },
      "source": [
        "data = 'Python'"
      ],
      "execution_count": 0,
      "outputs": []
    },
    {
      "cell_type": "code",
      "metadata": {
        "id": "KTCHGFYQHIAl",
        "colab_type": "code",
        "colab": {}
      },
      "source": [
        "data.index('y')"
      ],
      "execution_count": 0,
      "outputs": []
    },
    {
      "cell_type": "code",
      "metadata": {
        "id": "EIun3_V-HJWA",
        "colab_type": "code",
        "colab": {}
      },
      "source": [
        ""
      ],
      "execution_count": 0,
      "outputs": []
    },
    {
      "cell_type": "code",
      "metadata": {
        "id": "DRxv8uuEHKea",
        "colab_type": "code",
        "colab": {}
      },
      "source": [
        ""
      ],
      "execution_count": 0,
      "outputs": []
    },
    {
      "cell_type": "code",
      "metadata": {
        "id": "m4qiW4MVHKtZ",
        "colab_type": "code",
        "colab": {}
      },
      "source": [
        ""
      ],
      "execution_count": 0,
      "outputs": []
    },
    {
      "cell_type": "markdown",
      "metadata": {
        "id": "hGGVg61IHTqh",
        "colab_type": "text"
      },
      "source": [
        "### 3-4-2 メソッドの種類\n",
        "\n",
        "\n",
        "*   中身を変えずに結果を返すメソッド\n",
        "*   中身を変えて結果は返さないメソッド\n",
        "*   実体がなくても使えるメソッド\n",
        "\n",
        "3-5節では、これらを、datetimeモジュールで定義されているdate型で確認する。\n",
        "\n",
        "\n",
        "\n"
      ]
    },
    {
      "cell_type": "markdown",
      "metadata": {
        "id": "EqOil_RdHxGB",
        "colab_type": "text"
      },
      "source": [
        "## 3-5 datetimeモジュール"
      ]
    },
    {
      "cell_type": "code",
      "metadata": {
        "id": "rxywiKLBHWGe",
        "colab_type": "code",
        "colab": {}
      },
      "source": [
        "import datetime"
      ],
      "execution_count": 0,
      "outputs": []
    },
    {
      "cell_type": "markdown",
      "metadata": {
        "id": "xmKcRlkfICEV",
        "colab_type": "text"
      },
      "source": [
        "特定のデータ型について、\n",
        "\n",
        "その実体（実例）を一つ作るメソッドは、\n",
        "\n",
        "そのデータ型と同じ名前になっている。"
      ]
    },
    {
      "cell_type": "markdown",
      "metadata": {
        "id": "KzmG0fkkI576",
        "colab_type": "text"
      },
      "source": [
        "date型は、日付のみを扱うことができる。"
      ]
    },
    {
      "cell_type": "code",
      "metadata": {
        "id": "-dk-r4ZsH3O8",
        "colab_type": "code",
        "colab": {}
      },
      "source": [
        "day = datetime.date(1970, 6, 26)"
      ],
      "execution_count": 0,
      "outputs": []
    },
    {
      "cell_type": "code",
      "metadata": {
        "id": "jgZJDPdGH-tV",
        "colab_type": "code",
        "colab": {}
      },
      "source": [
        "print(day)"
      ],
      "execution_count": 0,
      "outputs": []
    },
    {
      "cell_type": "code",
      "metadata": {
        "id": "9HBFz1K0Ijgk",
        "colab_type": "code",
        "colab": {}
      },
      "source": [
        "day.weekday()"
      ],
      "execution_count": 0,
      "outputs": []
    },
    {
      "cell_type": "code",
      "metadata": {
        "id": "b8vxDRGmIkuf",
        "colab_type": "code",
        "colab": {}
      },
      "source": [
        ""
      ],
      "execution_count": 0,
      "outputs": []
    },
    {
      "cell_type": "code",
      "metadata": {
        "id": "BhxCWLeHIpX2",
        "colab_type": "code",
        "colab": {}
      },
      "source": [
        ""
      ],
      "execution_count": 0,
      "outputs": []
    },
    {
      "cell_type": "code",
      "metadata": {
        "id": "QDlzN5YxIpjs",
        "colab_type": "code",
        "colab": {}
      },
      "source": [
        ""
      ],
      "execution_count": 0,
      "outputs": []
    },
    {
      "cell_type": "markdown",
      "metadata": {
        "id": "xTKrHjVDIqjg",
        "colab_type": "text"
      },
      "source": [
        "### 3-5-3 datetime型\n",
        "datetime型は、日付と時刻を扱える。"
      ]
    },
    {
      "cell_type": "code",
      "metadata": {
        "id": "nBP1k62dIv_8",
        "colab_type": "code",
        "colab": {}
      },
      "source": [
        "apollo_11 = datetime.datetime(1969,7,21,5,17,40)"
      ],
      "execution_count": 0,
      "outputs": []
    },
    {
      "cell_type": "code",
      "metadata": {
        "id": "eUNM5tX6JKdF",
        "colab_type": "code",
        "colab": {}
      },
      "source": [
        "print(apollo_11)"
      ],
      "execution_count": 0,
      "outputs": []
    },
    {
      "cell_type": "code",
      "metadata": {
        "id": "MKmxNkTdJN4a",
        "colab_type": "code",
        "colab": {}
      },
      "source": [
        ""
      ],
      "execution_count": 0,
      "outputs": []
    },
    {
      "cell_type": "code",
      "metadata": {
        "id": "VC-Lyb16JPyM",
        "colab_type": "code",
        "colab": {}
      },
      "source": [
        ""
      ],
      "execution_count": 0,
      "outputs": []
    },
    {
      "cell_type": "markdown",
      "metadata": {
        "id": "V4F8EfC0JZxo",
        "colab_type": "text"
      },
      "source": [
        "## 3-6 データ型とオブジェクト"
      ]
    },
    {
      "cell_type": "code",
      "metadata": {
        "id": "GCn9mCiuJP-g",
        "colab_type": "code",
        "colab": {}
      },
      "source": [
        ""
      ],
      "execution_count": 0,
      "outputs": []
    },
    {
      "cell_type": "code",
      "metadata": {
        "id": "ZKP0IxzcJdt_",
        "colab_type": "code",
        "colab": {}
      },
      "source": [
        ""
      ],
      "execution_count": 0,
      "outputs": []
    },
    {
      "cell_type": "code",
      "metadata": {
        "id": "F2rX8rFjJd9p",
        "colab_type": "code",
        "colab": {}
      },
      "source": [
        ""
      ],
      "execution_count": 0,
      "outputs": []
    },
    {
      "cell_type": "markdown",
      "metadata": {
        "id": "JOQ2DQ7tJgvr",
        "colab_type": "text"
      },
      "source": [
        "## 3-7 人生を計算してみる"
      ]
    },
    {
      "cell_type": "code",
      "metadata": {
        "id": "DKENqInSJgOE",
        "colab_type": "code",
        "colab": {}
      },
      "source": [
        "import datetime"
      ],
      "execution_count": 0,
      "outputs": []
    },
    {
      "cell_type": "code",
      "metadata": {
        "id": "MQ7ZpJtwJtEp",
        "colab_type": "code",
        "colab": {}
      },
      "source": [
        ""
      ],
      "execution_count": 0,
      "outputs": []
    },
    {
      "cell_type": "code",
      "metadata": {
        "id": "zyS0AuVwJvHi",
        "colab_type": "code",
        "colab": {}
      },
      "source": [
        ""
      ],
      "execution_count": 0,
      "outputs": []
    },
    {
      "cell_type": "code",
      "metadata": {
        "id": "zNxw6wILJvQU",
        "colab_type": "code",
        "colab": {}
      },
      "source": [
        ""
      ],
      "execution_count": 0,
      "outputs": []
    },
    {
      "cell_type": "code",
      "metadata": {
        "id": "lomV3OTkJvad",
        "colab_type": "code",
        "colab": {}
      },
      "source": [
        ""
      ],
      "execution_count": 0,
      "outputs": []
    }
  ]
}