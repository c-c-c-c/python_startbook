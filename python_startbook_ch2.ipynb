{
  "nbformat": 4,
  "nbformat_minor": 0,
  "metadata": {
    "colab": {
      "name": "python_startbook_ch2.ipynb",
      "provenance": [],
      "collapsed_sections": [],
      "include_colab_link": true
    },
    "kernelspec": {
      "display_name": "Python 3",
      "language": "python",
      "name": "python3"
    },
    "language_info": {
      "codemirror_mode": {
        "name": "ipython",
        "version": 3
      },
      "file_extension": ".py",
      "mimetype": "text/x-python",
      "name": "python",
      "nbconvert_exporter": "python",
      "pygments_lexer": "ipython3",
      "version": "3.7.6"
    }
  },
  "cells": [
    {
      "cell_type": "markdown",
      "metadata": {
        "id": "view-in-github",
        "colab_type": "text"
      },
      "source": [
        "<a href=\"https://colab.research.google.com/github/c-c-c-c/python_startbook/blob/master/python_startbook_ch2.ipynb\" target=\"_parent\"><img src=\"https://colab.research.google.com/assets/colab-badge.svg\" alt=\"Open In Colab\"/></a>"
      ]
    },
    {
      "cell_type": "markdown",
      "metadata": {
        "colab_type": "text",
        "id": "OndyJ7234PZ1"
      },
      "source": [
        "参考書：[辻 真吾. Pythonスタートブック［増補改訂版］. Kindle Edition. ](https://www.amazon.co.jp/dp/B07C3LFNWJ/ref=cm_sw_r_tw_dp_U_x_iobJEbPXC8NYQ) "
      ]
    },
    {
      "cell_type": "markdown",
      "metadata": {
        "colab_type": "text",
        "id": "YP1vXFFWbpX6"
      },
      "source": [
        "# 1章\n",
        "## 1-5 インタラクティブシェル\n",
        "Pythonのインタラクティブシェルでは、\n",
        "\n",
        "1行ずつ、結果を確認しながら、\n",
        "\n",
        "プログラムを実行する。\n",
        "\n",
        "これと似ているが、Google Colabでは、\n",
        "\n",
        "複数行ずつ、結果を確認しながら、\n",
        "\n",
        "プログラムを実行できる。"
      ]
    },
    {
      "cell_type": "code",
      "metadata": {
        "colab_type": "code",
        "id": "iMNpiDOtbles",
        "outputId": "7a8c6272-b5c0-477f-937e-50c98d26e619",
        "colab": {
          "base_uri": "https://localhost:8080/",
          "height": 34
        }
      },
      "source": [
        "-2+2"
      ],
      "execution_count": 0,
      "outputs": [
        {
          "output_type": "execute_result",
          "data": {
            "text/plain": [
              "0"
            ]
          },
          "metadata": {
            "tags": []
          },
          "execution_count": 3
        }
      ]
    },
    {
      "cell_type": "code",
      "metadata": {
        "colab_type": "code",
        "id": "EMSeW28eb298",
        "colab": {}
      },
      "source": [
        "2*2"
      ],
      "execution_count": 0,
      "outputs": []
    },
    {
      "cell_type": "code",
      "metadata": {
        "colab_type": "code",
        "id": "Gq1wxsiachHn",
        "colab": {}
      },
      "source": [
        "4/2"
      ],
      "execution_count": 0,
      "outputs": []
    },
    {
      "cell_type": "code",
      "metadata": {
        "colab_type": "code",
        "id": "qow2iu-Lcilf",
        "colab": {}
      },
      "source": [
        "2/4"
      ],
      "execution_count": 0,
      "outputs": []
    },
    {
      "cell_type": "code",
      "metadata": {
        "colab_type": "code",
        "id": "DEJSqBnNcjzD",
        "colab": {}
      },
      "source": [
        "(1+5)/(2+3)"
      ],
      "execution_count": 0,
      "outputs": []
    },
    {
      "cell_type": "code",
      "metadata": {
        "colab_type": "code",
        "id": "gAo5qV5dcnJB",
        "colab": {}
      },
      "source": [
        "# 演算の優先順位に注意する。\n",
        "1+5/2+3"
      ],
      "execution_count": 0,
      "outputs": []
    },
    {
      "cell_type": "code",
      "metadata": {
        "colab_type": "code",
        "id": "KhVJaAkLNDd8",
        "colab": {}
      },
      "source": [
        ""
      ],
      "execution_count": 0,
      "outputs": []
    },
    {
      "cell_type": "code",
      "metadata": {
        "colab_type": "code",
        "id": "Y-idT9fZcsma",
        "colab": {}
      },
      "source": [
        "print('あいうえお')"
      ],
      "execution_count": 0,
      "outputs": []
    },
    {
      "cell_type": "code",
      "metadata": {
        "colab_type": "code",
        "id": "oac1CsmSc11O",
        "colab": {}
      },
      "source": [
        "[1,2,3,4]"
      ],
      "execution_count": 0,
      "outputs": []
    },
    {
      "cell_type": "code",
      "metadata": {
        "colab_type": "code",
        "id": "-4SbnLt6c6Wx",
        "colab": {}
      },
      "source": [
        "['one','two','three']"
      ],
      "execution_count": 0,
      "outputs": []
    },
    {
      "cell_type": "markdown",
      "metadata": {
        "colab_type": "text",
        "id": "e4kCZqt9A6pd"
      },
      "source": [
        "### 1-5-5 モジュールを読み込む"
      ]
    },
    {
      "cell_type": "code",
      "metadata": {
        "colab_type": "code",
        "id": "KOlET8Uec9IB",
        "colab": {}
      },
      "source": [
        "import random"
      ],
      "execution_count": 0,
      "outputs": []
    },
    {
      "cell_type": "code",
      "metadata": {
        "colab_type": "code",
        "id": "dvy1pdwnc_wG",
        "colab": {}
      },
      "source": [
        "random.choice([1,2,3,4,5,6])"
      ],
      "execution_count": 0,
      "outputs": []
    },
    {
      "cell_type": "code",
      "metadata": {
        "colab_type": "code",
        "id": "KAJ84CCkdDcc",
        "colab": {}
      },
      "source": [
        ""
      ],
      "execution_count": 0,
      "outputs": []
    },
    {
      "cell_type": "markdown",
      "metadata": {
        "colab_type": "text",
        "id": "-Ju7zqWvdG2h"
      },
      "source": [
        "## 1-6 はじめてのプログラムを書く\n",
        "（少し実演）"
      ]
    },
    {
      "cell_type": "markdown",
      "metadata": {
        "colab_type": "text",
        "id": "7SyO0XYDCgbi"
      },
      "source": [
        "----"
      ]
    },
    {
      "cell_type": "markdown",
      "metadata": {
        "colab_type": "text",
        "id": "qhRUIl0-KOku"
      },
      "source": [
        "# 2章 プログラムの材料と道具"
      ]
    },
    {
      "cell_type": "markdown",
      "metadata": {
        "colab_type": "text",
        "id": "ZUsY88oHdJN4"
      },
      "source": [
        "## 2-2 材料の種類とデータ型\n",
        "\n",
        "### 2-2-2 組み込みデータ型\n",
        "プログラムを組み立てる基本的な材料。\n",
        "\n",
        "はじめからPythonに\"組み込まれて\"いる。\n",
        "\n",
        "*   小数点がつかない数\n",
        "*   小数点がつく数\n",
        "*   文字列\n",
        "*   真か偽かを表すデータ\n",
        "\n",
        "以下は3章で説明。\n",
        "*   リスト\n",
        "*   辞書\n",
        "*   タプル\n",
        "*   セット\n",
        "\n",
        "\n"
      ]
    },
    {
      "cell_type": "markdown",
      "metadata": {
        "colab_type": "text",
        "id": "0gFxXjc4gOyD"
      },
      "source": [
        "### 2-2-3 材料に名前をつける\n",
        "Pythonプログラムでは、\n",
        "\n",
        "部品となるデータに名前をつけて使う。\n",
        "\n",
        "その名前のことを変数という。"
      ]
    },
    {
      "cell_type": "code",
      "metadata": {
        "colab_type": "code",
        "id": "5f0W6XYlfX8p",
        "colab": {}
      },
      "source": [
        "# 3という整数型のデータに、xという名前をつけている\n",
        "x = 3 "
      ],
      "execution_count": 0,
      "outputs": []
    },
    {
      "cell_type": "code",
      "metadata": {
        "colab_type": "code",
        "id": "rvwpZioKdgRG",
        "colab": {}
      },
      "source": [
        "x + 3"
      ],
      "execution_count": 0,
      "outputs": []
    },
    {
      "cell_type": "code",
      "metadata": {
        "colab_type": "code",
        "id": "okexjwVXDUXj",
        "colab": {}
      },
      "source": [
        ""
      ],
      "execution_count": 0,
      "outputs": []
    },
    {
      "cell_type": "code",
      "metadata": {
        "colab_type": "code",
        "id": "SHsiAfyiDUlR",
        "colab": {}
      },
      "source": [
        ""
      ],
      "execution_count": 0,
      "outputs": []
    },
    {
      "cell_type": "code",
      "metadata": {
        "colab_type": "code",
        "id": "j_SN0NLKDVLM",
        "colab": {}
      },
      "source": [
        "###2-2-5 整数型"
      ],
      "execution_count": 0,
      "outputs": []
    },
    {
      "cell_type": "code",
      "metadata": {
        "colab_type": "code",
        "id": "9rbX1Hn8g8bP",
        "colab": {}
      },
      "source": [
        "apple = 100"
      ],
      "execution_count": 0,
      "outputs": []
    },
    {
      "cell_type": "code",
      "metadata": {
        "colab_type": "code",
        "id": "yMbb6vKNg9fO",
        "colab": {}
      },
      "source": [
        "orange = 60"
      ],
      "execution_count": 0,
      "outputs": []
    },
    {
      "cell_type": "code",
      "metadata": {
        "colab_type": "code",
        "id": "5_1Qqm1Xg_zd",
        "colab": {}
      },
      "source": [
        "apple * 3 + orange * 2"
      ],
      "execution_count": 0,
      "outputs": []
    },
    {
      "cell_type": "code",
      "metadata": {
        "colab_type": "code",
        "id": "2kSQBK0bhFG-",
        "colab": {}
      },
      "source": [
        "orange = 120"
      ],
      "execution_count": 0,
      "outputs": []
    },
    {
      "cell_type": "code",
      "metadata": {
        "colab_type": "code",
        "id": "kMIbghFChJ9E",
        "colab": {}
      },
      "source": [
        "apple * 3 + orange * 2"
      ],
      "execution_count": 0,
      "outputs": []
    },
    {
      "cell_type": "markdown",
      "metadata": {
        "colab_type": "text",
        "id": "TipC_ybKDbp2"
      },
      "source": [
        "### 2-2-6 小数型"
      ]
    },
    {
      "cell_type": "code",
      "metadata": {
        "colab_type": "code",
        "id": "ispA9v_8hL7V",
        "colab": {}
      },
      "source": [
        "0.5"
      ],
      "execution_count": 0,
      "outputs": []
    },
    {
      "cell_type": "code",
      "metadata": {
        "colab_type": "code",
        "id": "tq2qmkYDhRUz",
        "colab": {}
      },
      "source": [
        "-0.5"
      ],
      "execution_count": 0,
      "outputs": []
    },
    {
      "cell_type": "code",
      "metadata": {
        "colab_type": "code",
        "id": "cQnuJlzihTm-",
        "colab": {}
      },
      "source": [
        "12.0"
      ],
      "execution_count": 0,
      "outputs": []
    },
    {
      "cell_type": "code",
      "metadata": {
        "colab_type": "code",
        "id": "d44cPZ-EhU9K",
        "colab": {}
      },
      "source": [
        "0.1 + 0.1 + 0.1"
      ],
      "execution_count": 0,
      "outputs": []
    },
    {
      "cell_type": "markdown",
      "metadata": {
        "colab_type": "text",
        "id": "dxTluE-VDpXq"
      },
      "source": [
        "### 2-2-8 文字列型"
      ]
    },
    {
      "cell_type": "code",
      "metadata": {
        "colab_type": "code",
        "id": "tQYS93SfhW_x",
        "colab": {}
      },
      "source": [
        "'moji'"
      ],
      "execution_count": 0,
      "outputs": []
    },
    {
      "cell_type": "code",
      "metadata": {
        "colab_type": "code",
        "id": "sDkja4XVhZqF",
        "colab": {}
      },
      "source": [
        "'12.0'"
      ],
      "execution_count": 0,
      "outputs": []
    },
    {
      "cell_type": "markdown",
      "metadata": {
        "colab_type": "text",
        "id": "tBVbBAdtDwF-"
      },
      "source": [
        "### 2-2-9 真偽型"
      ]
    },
    {
      "cell_type": "code",
      "metadata": {
        "colab_type": "code",
        "id": "DrCT5S3ghbaV",
        "colab": {}
      },
      "source": [
        "1 > 0.4"
      ],
      "execution_count": 0,
      "outputs": []
    },
    {
      "cell_type": "code",
      "metadata": {
        "colab_type": "code",
        "id": "Q8Kq1Ikmhdl2",
        "colab": {}
      },
      "source": [
        "1 < 0.4"
      ],
      "execution_count": 0,
      "outputs": []
    },
    {
      "cell_type": "markdown",
      "metadata": {
        "colab_type": "text",
        "id": "Zv4k-REDD8oL"
      },
      "source": [
        "### 2-2-10 リスト\n",
        "3章で詳しく説明。"
      ]
    },
    {
      "cell_type": "code",
      "metadata": {
        "colab_type": "code",
        "id": "XOARnVCnheuh",
        "colab": {}
      },
      "source": [
        "['a','b','c']"
      ],
      "execution_count": 0,
      "outputs": []
    },
    {
      "cell_type": "code",
      "metadata": {
        "colab_type": "code",
        "id": "JQuWtX3LhhhA",
        "colab": {}
      },
      "source": [
        "abc = ['a','b','c']"
      ],
      "execution_count": 0,
      "outputs": []
    },
    {
      "cell_type": "code",
      "metadata": {
        "colab_type": "code",
        "id": "N_Sg2PaGhkOz",
        "colab": {}
      },
      "source": [
        "abc"
      ],
      "execution_count": 0,
      "outputs": []
    },
    {
      "cell_type": "code",
      "metadata": {
        "colab_type": "code",
        "id": "M4txWvBphlNT",
        "colab": {}
      },
      "source": [
        "abc[0]"
      ],
      "execution_count": 0,
      "outputs": []
    },
    {
      "cell_type": "code",
      "metadata": {
        "colab_type": "code",
        "id": "qxUE7aqnhmyr",
        "colab": {}
      },
      "source": [
        "abc[2]"
      ],
      "execution_count": 0,
      "outputs": []
    },
    {
      "cell_type": "markdown",
      "metadata": {
        "colab_type": "text",
        "id": "hGzOm8yJECCw"
      },
      "source": [
        "### 2-2-11 数値と演算"
      ]
    },
    {
      "cell_type": "code",
      "metadata": {
        "colab_type": "code",
        "id": "bfA8lmJlhohB",
        "colab": {}
      },
      "source": [
        "3+4"
      ],
      "execution_count": 0,
      "outputs": []
    },
    {
      "cell_type": "code",
      "metadata": {
        "colab_type": "code",
        "id": "W4WCtVYfhp-t",
        "colab": {}
      },
      "source": [
        ""
      ],
      "execution_count": 0,
      "outputs": []
    },
    {
      "cell_type": "code",
      "metadata": {
        "colab_type": "code",
        "id": "8V1D5n2Phu5u",
        "colab": {}
      },
      "source": [
        ""
      ],
      "execution_count": 0,
      "outputs": []
    },
    {
      "cell_type": "code",
      "metadata": {
        "colab_type": "code",
        "id": "tCLC1pRjEJOG",
        "colab": {}
      },
      "source": [
        ""
      ],
      "execution_count": 0,
      "outputs": []
    },
    {
      "cell_type": "code",
      "metadata": {
        "colab_type": "code",
        "id": "XDh51RVWEJye",
        "colab": {}
      },
      "source": [
        ""
      ],
      "execution_count": 0,
      "outputs": []
    },
    {
      "cell_type": "markdown",
      "metadata": {
        "colab_type": "text",
        "id": "rEg7-4n8EKb8"
      },
      "source": [
        "### 2-2-12 比較演算子と代入演算子"
      ]
    },
    {
      "cell_type": "code",
      "metadata": {
        "colab_type": "code",
        "id": "Hsm1QHN3hvWF",
        "colab": {}
      },
      "source": [
        "x = 5\n",
        "y = 7"
      ],
      "execution_count": 0,
      "outputs": []
    },
    {
      "cell_type": "code",
      "metadata": {
        "colab_type": "code",
        "id": "DzNE4KYQhxry",
        "colab": {}
      },
      "source": [
        "x == y"
      ],
      "execution_count": 0,
      "outputs": []
    },
    {
      "cell_type": "code",
      "metadata": {
        "colab_type": "code",
        "id": "3Eum2M7Nhzfa",
        "colab": {}
      },
      "source": [
        "x != y"
      ],
      "execution_count": 0,
      "outputs": []
    },
    {
      "cell_type": "code",
      "metadata": {
        "colab_type": "code",
        "id": "baxK07Qqh1Ys",
        "colab": {}
      },
      "source": [
        "i = 1"
      ],
      "execution_count": 0,
      "outputs": []
    },
    {
      "cell_type": "code",
      "metadata": {
        "colab_type": "code",
        "id": "-HCBgoxxh4V7",
        "colab": {}
      },
      "source": [
        "i += 2"
      ],
      "execution_count": 0,
      "outputs": []
    },
    {
      "cell_type": "code",
      "metadata": {
        "colab_type": "code",
        "id": "4hflwRCBh5kg",
        "colab": {}
      },
      "source": [
        "i"
      ],
      "execution_count": 0,
      "outputs": []
    },
    {
      "cell_type": "code",
      "metadata": {
        "colab_type": "code",
        "id": "fXEAImyHh6EH",
        "colab": {}
      },
      "source": [
        ""
      ],
      "execution_count": 0,
      "outputs": []
    },
    {
      "cell_type": "markdown",
      "metadata": {
        "colab_type": "text",
        "id": "3YKEL06OigZX"
      },
      "source": [
        "## 2-3 道具としての関数\n",
        "\n",
        "関数とは、材料を扱う道具のこと。\n",
        "\n",
        "同じ材料でも、扱い方の違いによって、違う道具を使う。"
      ]
    },
    {
      "cell_type": "code",
      "metadata": {
        "colab_type": "code",
        "id": "xV7DggJsiexB",
        "colab": {}
      },
      "source": [
        "len('python')"
      ],
      "execution_count": 0,
      "outputs": []
    },
    {
      "cell_type": "markdown",
      "metadata": {
        "colab_type": "text",
        "id": "YQaldzlpisq-"
      },
      "source": [
        "### 2-3-2 関数の仕組み\n",
        "\n",
        "*   引数（ひきすう）\n",
        "*   戻り値（もどりち）\n",
        "\n"
      ]
    },
    {
      "cell_type": "code",
      "metadata": {
        "colab_type": "code",
        "id": "_cg25-sIinxM",
        "colab": {}
      },
      "source": [
        "len([1,2,3])"
      ],
      "execution_count": 0,
      "outputs": []
    },
    {
      "cell_type": "code",
      "metadata": {
        "colab_type": "code",
        "id": "1VR4HJ5ZjBDm",
        "colab": {}
      },
      "source": [
        "5+2"
      ],
      "execution_count": 0,
      "outputs": []
    },
    {
      "cell_type": "code",
      "metadata": {
        "colab_type": "code",
        "id": "0WslrhAqjFy6",
        "colab": {}
      },
      "source": [
        ""
      ],
      "execution_count": 0,
      "outputs": []
    },
    {
      "cell_type": "code",
      "metadata": {
        "colab_type": "code",
        "id": "Ug0z7CUojNV3",
        "colab": {}
      },
      "source": [
        ""
      ],
      "execution_count": 0,
      "outputs": []
    },
    {
      "cell_type": "markdown",
      "metadata": {
        "colab_type": "text",
        "id": "LfnWdvYoE3XP"
      },
      "source": [
        "### 2-3-3 データを文字列に変換する関数str"
      ]
    },
    {
      "cell_type": "code",
      "metadata": {
        "colab_type": "code",
        "id": "nQPtXP4sjNr3",
        "colab": {}
      },
      "source": [
        "version = 3.6"
      ],
      "execution_count": 0,
      "outputs": []
    },
    {
      "cell_type": "code",
      "metadata": {
        "colab_type": "code",
        "id": "TpKak6NyjOzM",
        "colab": {}
      },
      "source": [
        "'Python' + version"
      ],
      "execution_count": 0,
      "outputs": []
    },
    {
      "cell_type": "code",
      "metadata": {
        "colab_type": "code",
        "id": "12oFtaaTjQfW",
        "colab": {}
      },
      "source": [
        "str(version)"
      ],
      "execution_count": 0,
      "outputs": []
    },
    {
      "cell_type": "code",
      "metadata": {
        "colab_type": "code",
        "id": "RU0IYc2MjSD9",
        "colab": {}
      },
      "source": [
        "'Python' + str(version)"
      ],
      "execution_count": 0,
      "outputs": []
    },
    {
      "cell_type": "markdown",
      "metadata": {
        "colab_type": "text",
        "id": "YJRJcjBMFGxp"
      },
      "source": [
        "### 2-3-4 データを画面に出力する関数print"
      ]
    },
    {
      "cell_type": "code",
      "metadata": {
        "colab_type": "code",
        "id": "b2-_sWeBjciu",
        "colab": {}
      },
      "source": [
        ""
      ],
      "execution_count": 0,
      "outputs": []
    },
    {
      "cell_type": "code",
      "metadata": {
        "colab_type": "code",
        "id": "93JX2Wv-FUiN",
        "colab": {}
      },
      "source": [
        ""
      ],
      "execution_count": 0,
      "outputs": []
    },
    {
      "cell_type": "code",
      "metadata": {
        "colab_type": "code",
        "id": "u6gP6VpKFVdj",
        "colab": {}
      },
      "source": [
        ""
      ],
      "execution_count": 0,
      "outputs": []
    },
    {
      "cell_type": "code",
      "metadata": {
        "colab_type": "code",
        "id": "ceCzaqnRjiqQ",
        "colab": {}
      },
      "source": [
        ""
      ],
      "execution_count": 0,
      "outputs": []
    },
    {
      "cell_type": "markdown",
      "metadata": {
        "colab_type": "text",
        "id": "SQXxWQf3FXoN"
      },
      "source": [
        "### 2-3-5 整数の並びを作る\n",
        "（コードを書いていて、\n",
        "整数の並びが欲しいことが、結構ある。）"
      ]
    },
    {
      "cell_type": "code",
      "metadata": {
        "colab_type": "code",
        "id": "lVKkgwTLjnYr",
        "colab": {}
      },
      "source": [
        "number_list = [0,1,2,3,4]"
      ],
      "execution_count": 0,
      "outputs": []
    },
    {
      "cell_type": "code",
      "metadata": {
        "colab_type": "code",
        "id": "llZq7iCCjrLm",
        "colab": {}
      },
      "source": [
        "len(number_list)"
      ],
      "execution_count": 0,
      "outputs": []
    },
    {
      "cell_type": "code",
      "metadata": {
        "colab_type": "code",
        "id": "BDWW8DMmjxny",
        "colab": {}
      },
      "source": [
        "number_list_10 = range(10)"
      ],
      "execution_count": 0,
      "outputs": []
    },
    {
      "cell_type": "code",
      "metadata": {
        "colab_type": "code",
        "id": "eDQoNSiTj07V",
        "colab": {}
      },
      "source": [
        "number_list_10"
      ],
      "execution_count": 0,
      "outputs": []
    },
    {
      "cell_type": "markdown",
      "metadata": {
        "colab_type": "text",
        "id": "KPFga1RBkJwT"
      },
      "source": [
        "range関数、初めのうちは、わかりにくいかもしれません。\n",
        "\n",
        "リストの[0,1,2,3,4,5,6,7,8,9]は、定規のイメージ。はじめから中身の全体が見えている。\n",
        "\n",
        "range(10)は、巻尺のイメージ。引っ張り出してはじめて中身が見えてくる。"
      ]
    },
    {
      "cell_type": "code",
      "metadata": {
        "colab_type": "code",
        "id": "ad98OPF1j2yJ",
        "colab": {}
      },
      "source": [
        "list(number_list_10)"
      ],
      "execution_count": 0,
      "outputs": []
    },
    {
      "cell_type": "code",
      "metadata": {
        "colab_type": "code",
        "id": "wYCeE5wej9ag",
        "colab": {}
      },
      "source": [
        "list(range(1, 11))"
      ],
      "execution_count": 0,
      "outputs": []
    },
    {
      "cell_type": "markdown",
      "metadata": {
        "colab_type": "text",
        "id": "umIBnaOxkXdP"
      },
      "source": [
        "## 2-4 メソッド\n",
        "それぞれのデータ型専用の関数のことを、メソッドと呼ぶ。"
      ]
    },
    {
      "cell_type": "code",
      "metadata": {
        "colab_type": "code",
        "id": "JDa59p47kigR",
        "colab": {}
      },
      "source": [
        "address = 'Tokyo,Japan'"
      ],
      "execution_count": 0,
      "outputs": []
    },
    {
      "cell_type": "code",
      "metadata": {
        "colab_type": "code",
        "id": "U8Txz-BwknDW",
        "colab": {}
      },
      "source": [
        ""
      ],
      "execution_count": 0,
      "outputs": []
    },
    {
      "cell_type": "code",
      "metadata": {
        "colab_type": "code",
        "id": "G_E7X-zAkrDM",
        "colab": {}
      },
      "source": [
        ""
      ],
      "execution_count": 0,
      "outputs": []
    },
    {
      "cell_type": "code",
      "metadata": {
        "colab_type": "code",
        "id": "ZpUGpLy5krVY",
        "colab": {}
      },
      "source": [
        "# 変数addressの値は変わっていない\n",
        "address"
      ],
      "execution_count": 0,
      "outputs": []
    },
    {
      "cell_type": "markdown",
      "metadata": {
        "colab_type": "text",
        "id": "jMT7q0A2FrXC"
      },
      "source": [
        "### 2-4-2 引数のないメソッド"
      ]
    },
    {
      "cell_type": "code",
      "metadata": {
        "colab_type": "code",
        "id": "T8Tz4dbsksYI",
        "colab": {}
      },
      "source": [
        "address.upper()"
      ],
      "execution_count": 0,
      "outputs": []
    },
    {
      "cell_type": "code",
      "metadata": {
        "colab_type": "code",
        "id": "2_T8Fk1ck6JJ",
        "colab": {}
      },
      "source": [
        ""
      ],
      "execution_count": 0,
      "outputs": []
    },
    {
      "cell_type": "code",
      "metadata": {
        "colab_type": "code",
        "id": "gLyM-TQck6f9",
        "colab": {}
      },
      "source": [
        ""
      ],
      "execution_count": 0,
      "outputs": []
    }
  ]
}